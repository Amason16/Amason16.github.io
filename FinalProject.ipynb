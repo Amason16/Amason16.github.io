{
 "cells": [
  {
   "cell_type": "markdown",
   "metadata": {},
   "source": [
    "# COVID-19 Data Analysis\n",
    "\n",
    "### Anthony Mason\n",
    "\n",
    "### CMSC 320"
   ]
  },
  {
   "cell_type": "markdown",
   "metadata": {},
   "source": [
    "## Introduction\n",
    "I am not the first person that has investigated the statistics surrounding the COVID-19 and I most certainly will not be the last. Nevertheless, it is not necessarily about how much information data scientists try to push out to the public, but rather the quality of the information they present. here I will walk you through the steps to do your own data analysis on COVID-19."
   ]
  },
  {
   "cell_type": "markdown",
   "metadata": {},
   "source": [
    "### Objectives\n",
    "* Introduction to notebook\n",
    "* Gather recent COVID-19 data\n",
    "* Visualize data graphically\n",
    "* Predict COVID-19 statistics"
   ]
  },
  {
   "cell_type": "markdown",
   "metadata": {},
   "source": [
    "### Introduction\n",
    "#### Why COVID-19?\n",
    "This virus has not just caused a concern among society, it has entirely changed our way of life. Whether you are a student, forced to finish out your semester online, or a worker that is facing unemployment, we all are being impacted in our own way. By giving others the ability to do data analysis, we are allowing them to better understand a topic instead of believing whatever is being told on the news."
   ]
  },
  {
   "cell_type": "markdown",
   "metadata": {},
   "source": [
    "### Setting up your Jupyter Notebook\n",
    "1) Install most recent version of Python which can be found [here](https://www.python.org/downloads/) and follow the recommended installation settings.\n",
    "\n",
    "2) Create a new folder somewhere on your computer where you would like to save your files.\n",
    "\n",
    "3) If you're on Windows, open your command line. If you're on Mac, open your terminal prompt. From here you will want to enter the following commands which will give you access to the libraries we will use for looking at the data. If you do not want all of these libraries installed directly on your computer, you can create a virtual environment from the instructions [here](https://packaging.python.org/guides/installing-using-pip-and-virtual-environments/), which will allow you to easily delete all the libraries if you so choose.\n",
    "* pip install jupyterlab\n",
    "* pip install pandas\n",
    "* pip install ipyleaflet\n",
    "* pip install statsmodels\n",
    "* pip install torch torchvision\n",
    "\n",
    "4) Travel to the folder you created in step two via the command line/terminal prompt. If you are unfamiliar with how to do this, check out these links for [Windows](https://www.onmsft.com/feature/command-prompt-basics-working-with-files-and-folders) and [Mac](https://swcarpentry.github.io/shell-novice/02-filedir/index.html) that help walk you through the process (look for the 'cd' command explanation).\n",
    "\n",
    "5) Once in the directory, enter the command 'jupyter notebook' without the quotes. This will open up a Jupyter Notebooks.\n",
    "\n",
    "6) All that is left to do is go to the top right corner of the screen and click the button that says 'new'.\n",
    "\n",
    "** Important Note ** : Do not close your command line/terminal prompt while working inside of your Jupyter notebook. It acts as a connection to the kernel on your computer which allows you to run code from within your notebook."
   ]
  },
  {
   "cell_type": "markdown",
   "metadata": {},
   "source": [
    "### Grabbing Data\n",
    "We will be using the data provided by [John Hopkins Center for Systems Science and Engineering](https://github.com/CSSEGISandData). They provide daily updates of COVID-19 statistics across the world which will allow us to attempt predictions on whether the virus is slowing down or not. You can find the link to the dataset below.\n",
    "* [COVID-19-Confirmed-Global]()\n",
    "* [COVID-19-Confirmed-US]()\n",
    "* [COVID-19-Deaths-Global]()\n",
    "* [COVID-19-Recoveries-Global]()\n",
    "\n",
    "Once you have downloaded the data, move the files to the same folder you created earlier where your notebook is. You can simply do this with your systems file explorer, you do not need to do it with the command line/terminal prompt. Now we can begin!"
   ]
  },
  {
   "cell_type": "markdown",
   "metadata": {},
   "source": [
    "### Loading data into notebook\n",
    "We will first want to import those libraries that we installed previously to be able to look at the data. We will give them shorter names so that using them requires less typing."
   ]
  },
  {
   "cell_type": "code",
   "execution_count": 74,
   "metadata": {},
   "outputs": [],
   "source": [
    "import pandas as pd\n",
    "from plotnine import *"
   ]
  },
  {
   "cell_type": "markdown",
   "metadata": {},
   "source": [
    "We can use pandas to look at our data in a very nice table format, making it very easy for readability."
   ]
  },
  {
   "cell_type": "code",
   "execution_count": 75,
   "metadata": {},
   "outputs": [
    {
     "data": {
      "text/html": [
       "<div>\n",
       "<style scoped>\n",
       "    .dataframe tbody tr th:only-of-type {\n",
       "        vertical-align: middle;\n",
       "    }\n",
       "\n",
       "    .dataframe tbody tr th {\n",
       "        vertical-align: top;\n",
       "    }\n",
       "\n",
       "    .dataframe thead th {\n",
       "        text-align: right;\n",
       "    }\n",
       "</style>\n",
       "<table border=\"1\" class=\"dataframe\">\n",
       "  <thead>\n",
       "    <tr style=\"text-align: right;\">\n",
       "      <th></th>\n",
       "      <th>Province/State</th>\n",
       "      <th>Country/Region</th>\n",
       "      <th>Lat</th>\n",
       "      <th>Long</th>\n",
       "      <th>1/22/20</th>\n",
       "      <th>1/23/20</th>\n",
       "      <th>1/24/20</th>\n",
       "      <th>1/25/20</th>\n",
       "      <th>1/26/20</th>\n",
       "      <th>1/27/20</th>\n",
       "      <th>...</th>\n",
       "      <th>4/28/20</th>\n",
       "      <th>4/29/20</th>\n",
       "      <th>4/30/20</th>\n",
       "      <th>5/1/20</th>\n",
       "      <th>5/2/20</th>\n",
       "      <th>5/3/20</th>\n",
       "      <th>5/4/20</th>\n",
       "      <th>5/5/20</th>\n",
       "      <th>5/6/20</th>\n",
       "      <th>5/7/20</th>\n",
       "    </tr>\n",
       "  </thead>\n",
       "  <tbody>\n",
       "    <tr>\n",
       "      <th>0</th>\n",
       "      <td>NaN</td>\n",
       "      <td>Afghanistan</td>\n",
       "      <td>33.0000</td>\n",
       "      <td>65.0000</td>\n",
       "      <td>0</td>\n",
       "      <td>0</td>\n",
       "      <td>0</td>\n",
       "      <td>0</td>\n",
       "      <td>0</td>\n",
       "      <td>0</td>\n",
       "      <td>...</td>\n",
       "      <td>1828</td>\n",
       "      <td>1939</td>\n",
       "      <td>2171</td>\n",
       "      <td>2335</td>\n",
       "      <td>2469</td>\n",
       "      <td>2704</td>\n",
       "      <td>2894</td>\n",
       "      <td>3224</td>\n",
       "      <td>3392</td>\n",
       "      <td>3563</td>\n",
       "    </tr>\n",
       "    <tr>\n",
       "      <th>1</th>\n",
       "      <td>NaN</td>\n",
       "      <td>Albania</td>\n",
       "      <td>41.1533</td>\n",
       "      <td>20.1683</td>\n",
       "      <td>0</td>\n",
       "      <td>0</td>\n",
       "      <td>0</td>\n",
       "      <td>0</td>\n",
       "      <td>0</td>\n",
       "      <td>0</td>\n",
       "      <td>...</td>\n",
       "      <td>750</td>\n",
       "      <td>766</td>\n",
       "      <td>773</td>\n",
       "      <td>782</td>\n",
       "      <td>789</td>\n",
       "      <td>795</td>\n",
       "      <td>803</td>\n",
       "      <td>820</td>\n",
       "      <td>832</td>\n",
       "      <td>842</td>\n",
       "    </tr>\n",
       "    <tr>\n",
       "      <th>2</th>\n",
       "      <td>NaN</td>\n",
       "      <td>Algeria</td>\n",
       "      <td>28.0339</td>\n",
       "      <td>1.6596</td>\n",
       "      <td>0</td>\n",
       "      <td>0</td>\n",
       "      <td>0</td>\n",
       "      <td>0</td>\n",
       "      <td>0</td>\n",
       "      <td>0</td>\n",
       "      <td>...</td>\n",
       "      <td>3649</td>\n",
       "      <td>3848</td>\n",
       "      <td>4006</td>\n",
       "      <td>4154</td>\n",
       "      <td>4295</td>\n",
       "      <td>4474</td>\n",
       "      <td>4648</td>\n",
       "      <td>4838</td>\n",
       "      <td>4997</td>\n",
       "      <td>5182</td>\n",
       "    </tr>\n",
       "    <tr>\n",
       "      <th>3</th>\n",
       "      <td>NaN</td>\n",
       "      <td>Andorra</td>\n",
       "      <td>42.5063</td>\n",
       "      <td>1.5218</td>\n",
       "      <td>0</td>\n",
       "      <td>0</td>\n",
       "      <td>0</td>\n",
       "      <td>0</td>\n",
       "      <td>0</td>\n",
       "      <td>0</td>\n",
       "      <td>...</td>\n",
       "      <td>743</td>\n",
       "      <td>743</td>\n",
       "      <td>745</td>\n",
       "      <td>745</td>\n",
       "      <td>747</td>\n",
       "      <td>748</td>\n",
       "      <td>750</td>\n",
       "      <td>751</td>\n",
       "      <td>751</td>\n",
       "      <td>752</td>\n",
       "    </tr>\n",
       "    <tr>\n",
       "      <th>4</th>\n",
       "      <td>NaN</td>\n",
       "      <td>Angola</td>\n",
       "      <td>-11.2027</td>\n",
       "      <td>17.8739</td>\n",
       "      <td>0</td>\n",
       "      <td>0</td>\n",
       "      <td>0</td>\n",
       "      <td>0</td>\n",
       "      <td>0</td>\n",
       "      <td>0</td>\n",
       "      <td>...</td>\n",
       "      <td>27</td>\n",
       "      <td>27</td>\n",
       "      <td>27</td>\n",
       "      <td>30</td>\n",
       "      <td>35</td>\n",
       "      <td>35</td>\n",
       "      <td>35</td>\n",
       "      <td>36</td>\n",
       "      <td>36</td>\n",
       "      <td>36</td>\n",
       "    </tr>\n",
       "  </tbody>\n",
       "</table>\n",
       "<p>5 rows × 111 columns</p>\n",
       "</div>"
      ],
      "text/plain": [
       "  Province/State Country/Region      Lat     Long  1/22/20  1/23/20  1/24/20  \\\n",
       "0            NaN    Afghanistan  33.0000  65.0000        0        0        0   \n",
       "1            NaN        Albania  41.1533  20.1683        0        0        0   \n",
       "2            NaN        Algeria  28.0339   1.6596        0        0        0   \n",
       "3            NaN        Andorra  42.5063   1.5218        0        0        0   \n",
       "4            NaN         Angola -11.2027  17.8739        0        0        0   \n",
       "\n",
       "   1/25/20  1/26/20  1/27/20  ...  4/28/20  4/29/20  4/30/20  5/1/20  5/2/20  \\\n",
       "0        0        0        0  ...     1828     1939     2171    2335    2469   \n",
       "1        0        0        0  ...      750      766      773     782     789   \n",
       "2        0        0        0  ...     3649     3848     4006    4154    4295   \n",
       "3        0        0        0  ...      743      743      745     745     747   \n",
       "4        0        0        0  ...       27       27       27      30      35   \n",
       "\n",
       "   5/3/20  5/4/20  5/5/20  5/6/20  5/7/20  \n",
       "0    2704    2894    3224    3392    3563  \n",
       "1     795     803     820     832     842  \n",
       "2    4474    4648    4838    4997    5182  \n",
       "3     748     750     751     751     752  \n",
       "4      35      35      36      36      36  \n",
       "\n",
       "[5 rows x 111 columns]"
      ]
     },
     "execution_count": 75,
     "metadata": {},
     "output_type": "execute_result"
    }
   ],
   "source": [
    "cases_df = pd.read_csv('covid_19_cases.csv') # dataframe of worldwide confirmed cases\n",
    "cases_df.head() # display first 5 rows of table"
   ]
  },
  {
   "cell_type": "markdown",
   "metadata": {},
   "source": [
    "Wow, that is a lot of information to take in. Luckily for us we have the tools to make sense of it. As we can see, each entry in our table corresponds to a province/state from some country. We can see here that there are 111 columns that make up an entry in the table, but thankfully most of those are just dates. We now know that the time range the data was recorded was between January 22 and May 7 (the time of me creating this notebook)."
   ]
  },
  {
   "cell_type": "markdown",
   "metadata": {},
   "source": [
    "### Data exploration and visualization\n",
    "#### Total confirmed cases over time\n",
    "The great thing about notebooks is being able to visualize our data right in front of us. Let's start off simple. We will extract the total number confirmed infections from each day and plot them against each other. This will give us a rough idea of how the virus has developed over the time period we are evaluating."
   ]
  },
  {
   "cell_type": "code",
   "execution_count": 81,
   "metadata": {},
   "outputs": [],
   "source": [
    "sum_cases = [] # list of summed confirmed cases\n",
    "dates = cases_df.columns.tolist()[4:] # list of dates recorded\n",
    "\n",
    "for date in dates:\n",
    "    sum_cases.append(cases_df[date].sum())"
   ]
  },
  {
   "cell_type": "code",
   "execution_count": 82,
   "metadata": {},
   "outputs": [],
   "source": [
    "sum_cases_df = pd.DataFrame({'date' : dates, 'conf_cases' : sum_cases})\n",
    "sum_cases_df['date'] = sum_cases_df['date'].astype('datetime64[ns]').dt.date"
   ]
  },
  {
   "cell_type": "markdown",
   "metadata": {},
   "source": [
    " We need the datetime library to make some labels. We also want to mask a harmless warning that ggplot will display depending on your version of plotnine."
   ]
  },
  {
   "cell_type": "code",
   "execution_count": 83,
   "metadata": {},
   "outputs": [],
   "source": [
    "import datetime as dt\n",
    "import warnings\n",
    "warnings.filterwarnings('ignore')"
   ]
  },
  {
   "cell_type": "code",
   "execution_count": 84,
   "metadata": {},
   "outputs": [
    {
     "data": {
      "image/png": "[encoded data removed]",
      "text/plain": [
       "<Figure size 1000x500 with 1 Axes>"
      ]
     },
     "metadata": {},
     "output_type": "display_data"
    },
    {
     "data": {
      "text/plain": [
       "<ggplot: (308844337)>"
      ]
     },
     "execution_count": 84,
     "metadata": {},
     "output_type": "execute_result"
    }
   ],
   "source": [
    "x_labels = ['2020-01-22', '2020-02-15', '2020-03-15', '2020-04-15', '2020-05-07']\n",
    "x_labels = [dt.datetime.strptime(label, '%Y-%m-%d').date() for label in x_labels]\n",
    "\n",
    "(ggplot(sum_cases_df, aes(x='factor(date)', y='conf_cases', size='conf_cases')) +\n",
    "        geom_point(aes(color='conf_cases'), show_legend=False) +\n",
    "        labs(x='Date', y='Total Confirmed Cases', title='COVID-19 Cases By Day') +\n",
    "        scale_color_gradient(low='blue', high='red') +\n",
    "        scale_x_discrete(breaks=x_labels, labels=x_labels) +\n",
    "        theme(figure_size=(10, 5)))"
   ]
  },
  {
   "cell_type": "markdown",
   "metadata": {},
   "source": [
    "Now we can actually visualize what is happening with our data over time instead of reading through our huge table of reports. From this we can see that there was a very steady increase until around March, where the confirmed cases began to explode. This could simply have come from the fact that many people were not tested until this point. It is graphs like this that many people will attempt to misinform readers by presenting data that does not tell the whole story. Keep this in mind as you do your own experiments and start thinking logically about what your data is showing."
   ]
  },
  {
   "cell_type": "markdown",
   "metadata": {},
   "source": [
    "#### Cases by country\n",
    "This time we will do something a little different, we will compare the confirmed cases across all countries based on two seperate dates. This could give us an idea of which countries appear to have the highest amount of confirmed cases and allow us to see how the virus spread over time. We will compare the confirmed cases from 60 days into the dataset against the most recent day recorded. Feel free to try comparing different days by changing the values of '60' and '-1' below. I chose to not use the earlier days of the datset because if you do, you will see that there are nearly no confirmed cases in any country other than China."
   ]
  },
  {
   "cell_type": "code",
   "execution_count": 117,
   "metadata": {},
   "outputs": [],
   "source": [
    "date1, date2 = dates[60], dates[-1] # grab first and last dates in dataframe\n",
    "country_df = cases_df.groupby(['Country/Region']).sum() # sum all cases across country/region\n",
    "\n",
    "plot1 = country_df.loc[:, date1].nlargest(20) # grab 20 largest counts\n",
    "plot1 = plot1.to_frame().reset_index().rename(columns={date1 : 'cases'}) # organize\n",
    "\n",
    "plot2 = country_df.loc[:, date2].nlargest(20)\n",
    "plot2 = plot2.to_frame().reset_index().rename(columns={date2 : 'cases'})"
   ]
  },
  {
   "cell_type": "markdown",
   "metadata": {},
   "source": [
    "We now have the top 20 countries. We will organize them to make our plot more presentable"
   ]
  },
  {
   "cell_type": "code",
   "execution_count": 118,
   "metadata": {},
   "outputs": [],
   "source": [
    "plot1_labels = [(row[1], row[0]) for _, row in plot1.iterrows()]\n",
    "plot1_labels = sorted(plot1_labels)\n",
    "plot1_labels = [country for (cases, country) in plot1_labels]"
   ]
  },
  {
   "cell_type": "code",
   "execution_count": 120,
   "metadata": {},
   "outputs": [
    {
     "data": {
      "image/png": "[encoded data removed]",
      "text/plain": [
       "<Figure size 800x500 with 1 Axes>"
      ]
     },
     "metadata": {},
     "output_type": "display_data"
    },
    {
     "data": {
      "text/plain": [
       "<ggplot: (309943453)>"
      ]
     },
     "execution_count": 120,
     "metadata": {},
     "output_type": "execute_result"
    }
   ],
   "source": [
    "(ggplot(plot1, aes(x='Country/Region', y='cases')) +\n",
    "        geom_bar(aes(fill='Country/Region'), stat='identity', show_legend=False) +\n",
    "        labs(x='Country', y='Total Confirmed Cases', title='Mid March Confirmed Cases') +\n",
    "        scale_x_discrete(limits=plot1_labels) +\n",
    "        theme(axis_text_x=element_text(angle=90, hjust=1), figure_size=(8,5)))"
   ]
  },
  {
   "cell_type": "markdown",
   "metadata": {},
   "source": [
    "At this point, we are 60 days into the spread of COVID-19. We can see that China still sits at the top of the confirmed case count with Italy quickly catching up. It is very cloase between many of the top countries with the counts beginning to taper off around South Korea. Let's skip ahead to the most recently recorded day in the dataset and see that has changed."
   ]
  },
  {
   "cell_type": "code",
   "execution_count": 121,
   "metadata": {},
   "outputs": [],
   "source": [
    "plot2_labels = [(row[1], row[0]) for _, row in plot2.iterrows()]\n",
    "plot2_labels = sorted(plot2_labels)\n",
    "plot2_labels = [country for (cases, country) in plot2_labels]"
   ]
  },
  {
   "cell_type": "code",
   "execution_count": 123,
   "metadata": {},
   "outputs": [
    {
     "data": {
      "image/png": "[encoded data removed]",
      "text/plain": [
       "<Figure size 800x500 with 1 Axes>"
      ]
     },
     "metadata": {},
     "output_type": "display_data"
    },
    {
     "data": {
      "text/plain": [
       "<ggplot: (309550613)>"
      ]
     },
     "execution_count": 123,
     "metadata": {},
     "output_type": "execute_result"
    }
   ],
   "source": [
    "(ggplot(plot2, aes(x='Country/Region', y='cases')) +\n",
    "        geom_bar(aes(fill='Country/Region'), stat='identity', show_legend=False) +\n",
    "        labs(x='Country', y='Total Confirmed Cases', title='Early May Confirmed Cases') +\n",
    "        scale_x_discrete(limits=plot2_labels) +\n",
    "        theme(axis_text_x=element_text(angle=90, hjust=1), figure_size=(8,5)))"
   ]
  },
  {
   "cell_type": "markdown",
   "metadata": {},
   "source": [
    "Well that escalated quickly. As we can see, compared to other countries, China does not stand out as much. The United states has taken over with the highest confirmed case count by a long shot. As previously mentioned, we must be careful when both evaluating and presenting this data. This is simply the number of confirmed cases that have been reported to some sort of medical expert. It is very possible that there are many cases of COVID-19 that have not gone reported that would affect this graph. We have to consider the idea of some countries not having access to nearly as many testing kits as other countries. This could explain why we see much larger counts in first world countries. It is also important to notice the difference in scale of our two graphs y-axis. With that in mind, we can see that though China may appear to be in much better shape, they are in fact not much different than the previous graph. This is how data can create an illusion that the provider is attempting to mislead their audience. I am not trying to do that, instead I want you to notice it to be better prepared.\n",
    "\n",
    "Here is a quick comparison of China's confirmed cases between the two graphs"
   ]
  },
  {
   "cell_type": "code",
   "execution_count": 128,
   "metadata": {},
   "outputs": [
    {
     "name": "stdout",
     "output_type": "stream",
     "text": [
      "China from first graph: 81435\n",
      "China from second graph: 83975\n"
     ]
    }
   ],
   "source": [
    "print('China from first graph:', plot1[plot1['Country/Region'] == 'China'].iloc[0,1])\n",
    "print('China from second graph:', plot2[plot2['Country/Region'] == 'China'].iloc[0,1])"
   ]
  },
  {
   "cell_type": "markdown",
   "metadata": {},
   "source": [
    "#### Map of United States\n",
    "This is great and all, but let's take a look at another dataset that we downloaded previously. The confirmed cases located only in the United States. We will use this other dataset instead of extracting the US column from the global table so that we can look at individual states."
   ]
  },
  {
   "cell_type": "code",
   "execution_count": 10,
   "metadata": {},
   "outputs": [],
   "source": [
    "cases_us_df = pd.read_csv('covid_19_cases_us.csv') # US cases\n",
    "coords = [] # list for coordinates"
   ]
  },
  {
   "cell_type": "code",
   "execution_count": 11,
   "metadata": {},
   "outputs": [],
   "source": [
    "# accumulate all cases in United States\n",
    "for index, row in cases_us_df.iterrows():\n",
    "    lat, lg, cases  = row[8], row[9], row[-1]\n",
    "    if cases != 0:\n",
    "        coords += cases * [(lat, lg)]"
   ]
  },
  {
   "cell_type": "code",
   "execution_count": 12,
   "metadata": {},
   "outputs": [],
   "source": [
    "from ipyleaflet import Map, Heatmap # package to generate heat map\n",
    "\n",
    "united_states = (37.0902, -95.7129)\n",
    "\n",
    "us_map = Map(center=united_states, zoom=4) # create a map to view\n",
    "heat_map = Heatmap(locations=coords, radius=20) # create heat layer\n",
    "us_map.add_layer(heat_map) # apply heat layer to map"
   ]
  },
  {
   "cell_type": "code",
   "execution_count": 13,
   "metadata": {},
   "outputs": [
    {
     "data": {
      "application/vnd.jupyter.widget-view+json": {
       "model_id": "9f342cac870843a19c734746b9dd2932",
       "version_major": 2,
       "version_minor": 0
      },
      "text/plain": [
       "Map(center=[37.0902, -95.7129], controls=(ZoomControl(options=['position', 'zoom_in_text', 'zoom_in_title', 'z…"
      ]
     },
     "metadata": {},
     "output_type": "display_data"
    }
   ],
   "source": [
    "us_map"
   ]
  },
  {
   "cell_type": "markdown",
   "metadata": {},
   "source": [
    "This heat map shows us where the highest rates of confirmed cases are around the US. We can see that the bulk of cases reported are in major cities such as New York, Texas, California, Washington, and more. Heatmaps are great because we can see exactly where the hotspots are for confirmed cases as well as areas that do not appear to have as much activity."
   ]
  },
  {
   "cell_type": "markdown",
   "metadata": {},
   "source": [
    "#### Linear model relationship\n",
    "Most people would believe the higher confirmed cases of COVID-19, the higher the death toll. We want to check this assumption for ourselves to make sure that there is an actual relationship between confirmed cases and deaths. We will attempt to apply a linear model with a relationship between confirmed cases and deaths."
   ]
  },
  {
   "cell_type": "code",
   "execution_count": 1,
   "metadata": {},
   "outputs": [
    {
     "ename": "NameError",
     "evalue": "name 'pd' is not defined",
     "output_type": "error",
     "traceback": [
      "\u001b[0;31m---------------------------------------------------------------------------\u001b[0m",
      "\u001b[0;31mNameError\u001b[0m                                 Traceback (most recent call last)",
      "\u001b[0;32m<ipython-input-1-b0b7a144307b>\u001b[0m in \u001b[0;36m<module>\u001b[0;34m\u001b[0m\n\u001b[0;32m----> 1\u001b[0;31m \u001b[0mdeaths_df\u001b[0m \u001b[0;34m=\u001b[0m \u001b[0mpd\u001b[0m\u001b[0;34m.\u001b[0m\u001b[0mread_csv\u001b[0m\u001b[0;34m(\u001b[0m\u001b[0;34m'covid_19_deaths.csv'\u001b[0m\u001b[0;34m)\u001b[0m \u001b[0;31m# worldwide COVID-19 deaths\u001b[0m\u001b[0;34m\u001b[0m\u001b[0;34m\u001b[0m\u001b[0m\n\u001b[0m\u001b[1;32m      2\u001b[0m \u001b[0mdeaths_df\u001b[0m\u001b[0;34m.\u001b[0m\u001b[0mhead\u001b[0m\u001b[0;34m(\u001b[0m\u001b[0;34m)\u001b[0m\u001b[0;34m\u001b[0m\u001b[0;34m\u001b[0m\u001b[0m\n",
      "\u001b[0;31mNameError\u001b[0m: name 'pd' is not defined"
     ]
    }
   ],
   "source": [
    "deaths_df = pd.read_csv('covid_19_deaths.csv') # worldwide COVID-19 deaths\n",
    "deaths_df.head()"
   ]
  },
  {
   "cell_type": "markdown",
   "metadata": {},
   "source": [
    "We will use daily cases/deaths between all countries to see if there is a relationship. Some countries in the confirmed cases table are not listed in the deaths table because there have not been any confirmed deaths in that country/region. we already have all the confirmed cases summed up from earlier so let's sum up our deaths now."
   ]
  },
  {
   "cell_type": "code",
   "execution_count": 15,
   "metadata": {},
   "outputs": [],
   "source": [
    "sum_deaths = [] # list of summed deaths\n",
    "\n",
    "for date in dates:\n",
    "    sum_deaths.append(deaths_df[date].sum())"
   ]
  },
  {
   "cell_type": "code",
   "execution_count": 16,
   "metadata": {},
   "outputs": [
    {
     "data": {
      "text/html": [
       "<div>\n",
       "<style scoped>\n",
       "    .dataframe tbody tr th:only-of-type {\n",
       "        vertical-align: middle;\n",
       "    }\n",
       "\n",
       "    .dataframe tbody tr th {\n",
       "        vertical-align: top;\n",
       "    }\n",
       "\n",
       "    .dataframe thead th {\n",
       "        text-align: right;\n",
       "    }\n",
       "</style>\n",
       "<table border=\"1\" class=\"dataframe\">\n",
       "  <thead>\n",
       "    <tr style=\"text-align: right;\">\n",
       "      <th></th>\n",
       "      <th>date</th>\n",
       "      <th>cases</th>\n",
       "      <th>deaths</th>\n",
       "    </tr>\n",
       "  </thead>\n",
       "  <tbody>\n",
       "    <tr>\n",
       "      <th>0</th>\n",
       "      <td>1/22/20</td>\n",
       "      <td>555</td>\n",
       "      <td>17</td>\n",
       "    </tr>\n",
       "    <tr>\n",
       "      <th>1</th>\n",
       "      <td>1/23/20</td>\n",
       "      <td>654</td>\n",
       "      <td>18</td>\n",
       "    </tr>\n",
       "    <tr>\n",
       "      <th>2</th>\n",
       "      <td>1/24/20</td>\n",
       "      <td>941</td>\n",
       "      <td>26</td>\n",
       "    </tr>\n",
       "    <tr>\n",
       "      <th>3</th>\n",
       "      <td>1/25/20</td>\n",
       "      <td>1434</td>\n",
       "      <td>42</td>\n",
       "    </tr>\n",
       "    <tr>\n",
       "      <th>4</th>\n",
       "      <td>1/26/20</td>\n",
       "      <td>2118</td>\n",
       "      <td>56</td>\n",
       "    </tr>\n",
       "  </tbody>\n",
       "</table>\n",
       "</div>"
      ],
      "text/plain": [
       "      date  cases  deaths\n",
       "0  1/22/20    555      17\n",
       "1  1/23/20    654      18\n",
       "2  1/24/20    941      26\n",
       "3  1/25/20   1434      42\n",
       "4  1/26/20   2118      56"
      ]
     },
     "execution_count": 16,
     "metadata": {},
     "output_type": "execute_result"
    }
   ],
   "source": [
    "relationship_df = pd.DataFrame({'date' : dates, 'cases' : sum_cases, 'deaths' : sum_deaths})\n",
    "relationship_df.head()"
   ]
  },
  {
   "cell_type": "markdown",
   "metadata": {},
   "source": [
    "We can make an assumption that there is a relationship already just by looking at the first five rows in the table above. Let's make sure though!"
   ]
  },
  {
   "cell_type": "code",
   "execution_count": 17,
   "metadata": {},
   "outputs": [
    {
     "data": {
      "text/html": [
       "<table class=\"simpletable\">\n",
       "<caption>OLS Regression Results</caption>\n",
       "<tr>\n",
       "  <th>Dep. Variable:</th>         <td>deaths</td>      <th>  R-squared:         </th> <td>   0.997</td> \n",
       "</tr>\n",
       "<tr>\n",
       "  <th>Model:</th>                   <td>OLS</td>       <th>  Adj. R-squared:    </th> <td>   0.997</td> \n",
       "</tr>\n",
       "<tr>\n",
       "  <th>Method:</th>             <td>Least Squares</td>  <th>  F-statistic:       </th> <td>3.089e+04</td>\n",
       "</tr>\n",
       "<tr>\n",
       "  <th>Date:</th>             <td>Sat, 09 May 2020</td> <th>  Prob (F-statistic):</th> <td>1.61e-131</td>\n",
       "</tr>\n",
       "<tr>\n",
       "  <th>Time:</th>                 <td>18:04:10</td>     <th>  Log-Likelihood:    </th> <td> -1061.9</td> \n",
       "</tr>\n",
       "<tr>\n",
       "  <th>No. Observations:</th>      <td>   107</td>      <th>  AIC:               </th> <td>   2128.</td> \n",
       "</tr>\n",
       "<tr>\n",
       "  <th>Df Residuals:</th>          <td>   105</td>      <th>  BIC:               </th> <td>   2133.</td> \n",
       "</tr>\n",
       "<tr>\n",
       "  <th>Df Model:</th>              <td>     1</td>      <th>                     </th>     <td> </td>    \n",
       "</tr>\n",
       "<tr>\n",
       "  <th>Covariance Type:</th>      <td>nonrobust</td>    <th>                     </th>     <td> </td>    \n",
       "</tr>\n",
       "</table>\n",
       "<table class=\"simpletable\">\n",
       "<tr>\n",
       "      <td></td>         <th>coef</th>     <th>std err</th>      <th>t</th>      <th>P>|t|</th>  <th>[0.025</th>    <th>0.975]</th>  \n",
       "</tr>\n",
       "<tr>\n",
       "  <th>Intercept</th> <td>-5124.5060</td> <td>  610.890</td> <td>   -8.389</td> <td> 0.000</td> <td>-6335.787</td> <td>-3913.225</td>\n",
       "</tr>\n",
       "<tr>\n",
       "  <th>cases</th>     <td>    0.0714</td> <td>    0.000</td> <td>  175.766</td> <td> 0.000</td> <td>    0.071</td> <td>    0.072</td>\n",
       "</tr>\n",
       "</table>\n",
       "<table class=\"simpletable\">\n",
       "<tr>\n",
       "  <th>Omnibus:</th>       <td>17.772</td> <th>  Durbin-Watson:     </th> <td>   0.024</td>\n",
       "</tr>\n",
       "<tr>\n",
       "  <th>Prob(Omnibus):</th> <td> 0.000</td> <th>  Jarque-Bera (JB):  </th> <td>  21.941</td>\n",
       "</tr>\n",
       "<tr>\n",
       "  <th>Skew:</th>          <td>-1.107</td> <th>  Prob(JB):          </th> <td>1.72e-05</td>\n",
       "</tr>\n",
       "<tr>\n",
       "  <th>Kurtosis:</th>      <td> 3.126</td> <th>  Cond. No.          </th> <td>1.90e+06</td>\n",
       "</tr>\n",
       "</table><br/><br/>Warnings:<br/>[1] Standard Errors assume that the covariance matrix of the errors is correctly specified.<br/>[2] The condition number is large, 1.9e+06. This might indicate that there are<br/>strong multicollinearity or other numerical problems."
      ],
      "text/plain": [
       "<class 'statsmodels.iolib.summary.Summary'>\n",
       "\"\"\"\n",
       "                            OLS Regression Results                            \n",
       "==============================================================================\n",
       "Dep. Variable:                 deaths   R-squared:                       0.997\n",
       "Model:                            OLS   Adj. R-squared:                  0.997\n",
       "Method:                 Least Squares   F-statistic:                 3.089e+04\n",
       "Date:                Sat, 09 May 2020   Prob (F-statistic):          1.61e-131\n",
       "Time:                        18:04:10   Log-Likelihood:                -1061.9\n",
       "No. Observations:                 107   AIC:                             2128.\n",
       "Df Residuals:                     105   BIC:                             2133.\n",
       "Df Model:                           1                                         \n",
       "Covariance Type:            nonrobust                                         \n",
       "==============================================================================\n",
       "                 coef    std err          t      P>|t|      [0.025      0.975]\n",
       "------------------------------------------------------------------------------\n",
       "Intercept  -5124.5060    610.890     -8.389      0.000   -6335.787   -3913.225\n",
       "cases          0.0714      0.000    175.766      0.000       0.071       0.072\n",
       "==============================================================================\n",
       "Omnibus:                       17.772   Durbin-Watson:                   0.024\n",
       "Prob(Omnibus):                  0.000   Jarque-Bera (JB):               21.941\n",
       "Skew:                          -1.107   Prob(JB):                     1.72e-05\n",
       "Kurtosis:                       3.126   Cond. No.                     1.90e+06\n",
       "==============================================================================\n",
       "\n",
       "Warnings:\n",
       "[1] Standard Errors assume that the covariance matrix of the errors is correctly specified.\n",
       "[2] The condition number is large, 1.9e+06. This might indicate that there are\n",
       "strong multicollinearity or other numerical problems.\n",
       "\"\"\""
      ]
     },
     "execution_count": 17,
     "metadata": {},
     "output_type": "execute_result"
    }
   ],
   "source": [
    "from statsmodels.formula.api import ols\n",
    "\n",
    "# fit linear model to deaths dependant on number of cases\n",
    "model = ols(formula='deaths~cases', data=relationship_df).fit()\n",
    "model.summary()"
   ]
  },
  {
   "cell_type": "markdown",
   "metadata": {},
   "source": [
    "This table may look daunting, but it puts information in a nice format for us to interpret. Looking at the fifth line from the bottom where it says 'cases', since we plotted deaths dependent on cases, this tells us that for every confirmed case of COVID-19, the number of deaths increases by 0.0714. This may seem small but remember our previous graphs that showed the confirmed cases count increasing into the millions. By using these two datasets together, we can see that 0.0714 can actually reflect a large death count worldwide. If you ever choose to do linear regresion yourself, be sure to keep an eye on the p-value associated with this number under the P>|t| column. This tells us the significance of the statistic. For more information on p-values, check out this [link](https://www.investopedia.com/terms/p/p-value.asp)."
   ]
  },
  {
   "cell_type": "markdown",
   "metadata": {},
   "source": [
    "### Predictions with machine learning\n",
    "So, I am sure that up to this point you can see that there is a relationship between time passed and cases/deaths involving COVID-19. This is why it has become such a big deal to the point of shutting down society as we know it. So, what if we wanted to predict how the situation would be tomorrow? Instead of guessing, we can actually use statistical analysis through machine learning to design a model that will use the data we have to make an informed prediction."
   ]
  },
  {
   "cell_type": "markdown",
   "metadata": {},
   "source": [
    "#### Recovery dataset\n",
    "We will build a model that will predict what the number of recovery cases are for the last day in the dataset. The model will make this prediction based on the total number of confirmed cases that day. You may be thinking that the number of confirmed cases on a day does not directly reflect the number of recoveries that day, but more so a few weeks away when they will have recovered from the virus. The great thing about these prediction models is that they can use the entire dataset to make an informed decision based on the input you give it. By providing the model with how many confirmed cases there are, the model can predict based on previous knowledge how many people should have recovered at this point."
   ]
  },
  {
   "cell_type": "markdown",
   "metadata": {},
   "source": [
    "#### Clean the two datasets\n",
    "First we will grab the recoveries dataset and reset the tables."
   ]
  },
  {
   "cell_type": "code",
   "execution_count": 18,
   "metadata": {
    "scrolled": true
   },
   "outputs": [],
   "source": [
    "recovery_df = pd.read_csv('covid_19_recoveries.csv') # worldwide COVID-19 recoveries\n",
    "recovery_df = recovery_df.groupby(['Country/Region']).sum().reset_index()\n",
    "country_df = country_df.reset_index()"
   ]
  },
  {
   "cell_type": "markdown",
   "metadata": {},
   "source": [
    "Next we need to only use countries that are shared between the two tables. It is possible that a country has confirmed cases but does not have any recoveries. It is important when creating these models that we feed it accurate and consistent information."
   ]
  },
  {
   "cell_type": "code",
   "execution_count": 19,
   "metadata": {},
   "outputs": [],
   "source": [
    "# c used to signify country\n",
    "cases_c = country_df['Country/Region'].tolist() \n",
    "recovery_c = recovery_df['Country/Region'].tolist()\n",
    "shared_c = [country for country in cases_c if country in recovery_c]"
   ]
  },
  {
   "cell_type": "code",
   "execution_count": 20,
   "metadata": {},
   "outputs": [],
   "source": [
    "clean_cases_df = country_df[country_df['Country/Region'].isin(shared_c)]\n",
    "clean_cases_df = clean_cases_df.drop(columns=['Country/Region', 'Lat', 'Long'])\n",
    "\n",
    "clean_recovery_df = recovery_df[recovery_df['Country/Region'].isin(shared_c)]\n",
    "clean_recovery_df = clean_recovery_df.drop(columns=['Country/Region', 'Lat', 'Long']).sum()\n",
    "clean_recovery_df = clean_recovery_df.to_frame().rename(columns={0 : 'count'})"
   ]
  },
  {
   "cell_type": "markdown",
   "metadata": {},
   "source": [
    "Okay, now we have our two tables that we wanted: all of the confirmed cases by country over time, and the total number of recoveries by country over time. Let's take a look."
   ]
  },
  {
   "cell_type": "code",
   "execution_count": 21,
   "metadata": {},
   "outputs": [
    {
     "data": {
      "text/html": [
       "<div>\n",
       "<style scoped>\n",
       "    .dataframe tbody tr th:only-of-type {\n",
       "        vertical-align: middle;\n",
       "    }\n",
       "\n",
       "    .dataframe tbody tr th {\n",
       "        vertical-align: top;\n",
       "    }\n",
       "\n",
       "    .dataframe thead th {\n",
       "        text-align: right;\n",
       "    }\n",
       "</style>\n",
       "<table border=\"1\" class=\"dataframe\">\n",
       "  <thead>\n",
       "    <tr style=\"text-align: right;\">\n",
       "      <th></th>\n",
       "      <th>1/22/20</th>\n",
       "      <th>1/23/20</th>\n",
       "      <th>1/24/20</th>\n",
       "      <th>1/25/20</th>\n",
       "      <th>1/26/20</th>\n",
       "      <th>1/27/20</th>\n",
       "      <th>1/28/20</th>\n",
       "      <th>1/29/20</th>\n",
       "      <th>1/30/20</th>\n",
       "      <th>1/31/20</th>\n",
       "      <th>...</th>\n",
       "      <th>4/28/20</th>\n",
       "      <th>4/29/20</th>\n",
       "      <th>4/30/20</th>\n",
       "      <th>5/1/20</th>\n",
       "      <th>5/2/20</th>\n",
       "      <th>5/3/20</th>\n",
       "      <th>5/4/20</th>\n",
       "      <th>5/5/20</th>\n",
       "      <th>5/6/20</th>\n",
       "      <th>5/7/20</th>\n",
       "    </tr>\n",
       "  </thead>\n",
       "  <tbody>\n",
       "    <tr>\n",
       "      <th>0</th>\n",
       "      <td>0</td>\n",
       "      <td>0</td>\n",
       "      <td>0</td>\n",
       "      <td>0</td>\n",
       "      <td>0</td>\n",
       "      <td>0</td>\n",
       "      <td>0</td>\n",
       "      <td>0</td>\n",
       "      <td>0</td>\n",
       "      <td>0</td>\n",
       "      <td>...</td>\n",
       "      <td>1828</td>\n",
       "      <td>1939</td>\n",
       "      <td>2171</td>\n",
       "      <td>2335</td>\n",
       "      <td>2469</td>\n",
       "      <td>2704</td>\n",
       "      <td>2894</td>\n",
       "      <td>3224</td>\n",
       "      <td>3392</td>\n",
       "      <td>3563</td>\n",
       "    </tr>\n",
       "    <tr>\n",
       "      <th>1</th>\n",
       "      <td>0</td>\n",
       "      <td>0</td>\n",
       "      <td>0</td>\n",
       "      <td>0</td>\n",
       "      <td>0</td>\n",
       "      <td>0</td>\n",
       "      <td>0</td>\n",
       "      <td>0</td>\n",
       "      <td>0</td>\n",
       "      <td>0</td>\n",
       "      <td>...</td>\n",
       "      <td>750</td>\n",
       "      <td>766</td>\n",
       "      <td>773</td>\n",
       "      <td>782</td>\n",
       "      <td>789</td>\n",
       "      <td>795</td>\n",
       "      <td>803</td>\n",
       "      <td>820</td>\n",
       "      <td>832</td>\n",
       "      <td>842</td>\n",
       "    </tr>\n",
       "    <tr>\n",
       "      <th>2</th>\n",
       "      <td>0</td>\n",
       "      <td>0</td>\n",
       "      <td>0</td>\n",
       "      <td>0</td>\n",
       "      <td>0</td>\n",
       "      <td>0</td>\n",
       "      <td>0</td>\n",
       "      <td>0</td>\n",
       "      <td>0</td>\n",
       "      <td>0</td>\n",
       "      <td>...</td>\n",
       "      <td>3649</td>\n",
       "      <td>3848</td>\n",
       "      <td>4006</td>\n",
       "      <td>4154</td>\n",
       "      <td>4295</td>\n",
       "      <td>4474</td>\n",
       "      <td>4648</td>\n",
       "      <td>4838</td>\n",
       "      <td>4997</td>\n",
       "      <td>5182</td>\n",
       "    </tr>\n",
       "    <tr>\n",
       "      <th>3</th>\n",
       "      <td>0</td>\n",
       "      <td>0</td>\n",
       "      <td>0</td>\n",
       "      <td>0</td>\n",
       "      <td>0</td>\n",
       "      <td>0</td>\n",
       "      <td>0</td>\n",
       "      <td>0</td>\n",
       "      <td>0</td>\n",
       "      <td>0</td>\n",
       "      <td>...</td>\n",
       "      <td>743</td>\n",
       "      <td>743</td>\n",
       "      <td>745</td>\n",
       "      <td>745</td>\n",
       "      <td>747</td>\n",
       "      <td>748</td>\n",
       "      <td>750</td>\n",
       "      <td>751</td>\n",
       "      <td>751</td>\n",
       "      <td>752</td>\n",
       "    </tr>\n",
       "    <tr>\n",
       "      <th>4</th>\n",
       "      <td>0</td>\n",
       "      <td>0</td>\n",
       "      <td>0</td>\n",
       "      <td>0</td>\n",
       "      <td>0</td>\n",
       "      <td>0</td>\n",
       "      <td>0</td>\n",
       "      <td>0</td>\n",
       "      <td>0</td>\n",
       "      <td>0</td>\n",
       "      <td>...</td>\n",
       "      <td>27</td>\n",
       "      <td>27</td>\n",
       "      <td>27</td>\n",
       "      <td>30</td>\n",
       "      <td>35</td>\n",
       "      <td>35</td>\n",
       "      <td>35</td>\n",
       "      <td>36</td>\n",
       "      <td>36</td>\n",
       "      <td>36</td>\n",
       "    </tr>\n",
       "  </tbody>\n",
       "</table>\n",
       "<p>5 rows × 107 columns</p>\n",
       "</div>"
      ],
      "text/plain": [
       "   1/22/20  1/23/20  1/24/20  1/25/20  1/26/20  1/27/20  1/28/20  1/29/20  \\\n",
       "0        0        0        0        0        0        0        0        0   \n",
       "1        0        0        0        0        0        0        0        0   \n",
       "2        0        0        0        0        0        0        0        0   \n",
       "3        0        0        0        0        0        0        0        0   \n",
       "4        0        0        0        0        0        0        0        0   \n",
       "\n",
       "   1/30/20  1/31/20  ...  4/28/20  4/29/20  4/30/20  5/1/20  5/2/20  5/3/20  \\\n",
       "0        0        0  ...     1828     1939     2171    2335    2469    2704   \n",
       "1        0        0  ...      750      766      773     782     789     795   \n",
       "2        0        0  ...     3649     3848     4006    4154    4295    4474   \n",
       "3        0        0  ...      743      743      745     745     747     748   \n",
       "4        0        0  ...       27       27       27      30      35      35   \n",
       "\n",
       "   5/4/20  5/5/20  5/6/20  5/7/20  \n",
       "0    2894    3224    3392    3563  \n",
       "1     803     820     832     842  \n",
       "2    4648    4838    4997    5182  \n",
       "3     750     751     751     752  \n",
       "4      35      36      36      36  \n",
       "\n",
       "[5 rows x 107 columns]"
      ]
     },
     "execution_count": 21,
     "metadata": {},
     "output_type": "execute_result"
    }
   ],
   "source": [
    "clean_cases_df.head()"
   ]
  },
  {
   "cell_type": "code",
   "execution_count": 22,
   "metadata": {},
   "outputs": [
    {
     "data": {
      "text/html": [
       "<div>\n",
       "<style scoped>\n",
       "    .dataframe tbody tr th:only-of-type {\n",
       "        vertical-align: middle;\n",
       "    }\n",
       "\n",
       "    .dataframe tbody tr th {\n",
       "        vertical-align: top;\n",
       "    }\n",
       "\n",
       "    .dataframe thead th {\n",
       "        text-align: right;\n",
       "    }\n",
       "</style>\n",
       "<table border=\"1\" class=\"dataframe\">\n",
       "  <thead>\n",
       "    <tr style=\"text-align: right;\">\n",
       "      <th></th>\n",
       "      <th>count</th>\n",
       "    </tr>\n",
       "  </thead>\n",
       "  <tbody>\n",
       "    <tr>\n",
       "      <th>1/22/20</th>\n",
       "      <td>28</td>\n",
       "    </tr>\n",
       "    <tr>\n",
       "      <th>1/23/20</th>\n",
       "      <td>30</td>\n",
       "    </tr>\n",
       "    <tr>\n",
       "      <th>1/24/20</th>\n",
       "      <td>36</td>\n",
       "    </tr>\n",
       "    <tr>\n",
       "      <th>1/25/20</th>\n",
       "      <td>39</td>\n",
       "    </tr>\n",
       "    <tr>\n",
       "      <th>1/26/20</th>\n",
       "      <td>52</td>\n",
       "    </tr>\n",
       "  </tbody>\n",
       "</table>\n",
       "</div>"
      ],
      "text/plain": [
       "         count\n",
       "1/22/20     28\n",
       "1/23/20     30\n",
       "1/24/20     36\n",
       "1/25/20     39\n",
       "1/26/20     52"
      ]
     },
     "execution_count": 22,
     "metadata": {},
     "output_type": "execute_result"
    }
   ],
   "source": [
    "clean_recovery_df.head()"
   ]
  },
  {
   "cell_type": "markdown",
   "metadata": {},
   "source": [
    "#### Labeling data\n",
    "Earlier I said what information we would give to the model, so now we need to get that information by extracting it from our tables. We will divide all of our values by 1e07 (10 million) in order to keep all values below 1. This is important because many values in this dataset are in the hundreds of thousands and even millions. With the multiplication that our model will be performing, these numbers could quickly grow too large for our computer to be able to represent. This would result in either getting 0 or nan which stands for 'not a number'. The model would then become useless so we want to avoid that."
   ]
  },
  {
   "cell_type": "code",
   "execution_count": 23,
   "metadata": {},
   "outputs": [],
   "source": [
    "model_data = clean_cases_df.iloc[:,:].to_numpy() / 1e07"
   ]
  },
  {
   "cell_type": "code",
   "execution_count": 24,
   "metadata": {},
   "outputs": [],
   "source": [
    "model_labels = clean_recovery_df.iloc[:,0].to_numpy() / 1e07\n",
    "model_labels = model_labels.reshape(model_labels.shape[0], 1)"
   ]
  },
  {
   "cell_type": "markdown",
   "metadata": {},
   "source": [
    "#### Conversion of data\n",
    "There are many choices out there when designing a machine learning model. We are going to have some fun with it and make a very simple neural network. At a high level, a neural network is currently the closest thing that computer scientists have come to recreating the functionality of a human brain. For this task we will use an awesome library called pytorch. Pytorch is a great framework which makes creating a neural network very simple and intuitive, even for a first timer.\n",
    "\n",
    "I will not go into great detail about neural networks in this journal but the high level idea is that we will send the values from our dataset into the neural network, it will make a prediction based on these values, and we will tell it how wrong it was. From there the model will be adjusted to try to make a better guess next time. We do this for as long as we would like until we believe the model is performing well. There is MUCH more that goes on under the hood, but we will not get into that. If you are interested in learning more about neural networks, check out this [link](https://pathmind.com/wiki/neural-network)."
   ]
  },
  {
   "cell_type": "code",
   "execution_count": 25,
   "metadata": {},
   "outputs": [],
   "source": [
    "import torch\n",
    "import torch.nn as nn\n",
    "import torch.nn.functional as F"
   ]
  },
  {
   "cell_type": "markdown",
   "metadata": {},
   "source": [
    "We will convert the table values we have into tensors. Tensors are used to efficiently work with data in pytorch. Think of them as vectors or matrices from your linear algebra class."
   ]
  },
  {
   "cell_type": "code",
   "execution_count": 26,
   "metadata": {},
   "outputs": [
    {
     "name": "stdout",
     "output_type": "stream",
     "text": [
      "Train Data Shape: torch.Size([106, 187])\n",
      "Train Label Shape: torch.Size([106])\n",
      "Test Data Shape: torch.Size([187])\n",
      "Test Label Shape: torch.Size([1])\n"
     ]
    }
   ],
   "source": [
    "x_train = torch.FloatTensor(model_data[:,:-1]).T\n",
    "y_train = torch.FloatTensor(model_labels[:-1, 0])\n",
    "x_test = torch.FloatTensor(model_data[:,-1])\n",
    "y_test = torch.FloatTensor(model_labels[-1])\n",
    "\n",
    "print('Train Data Shape:', x_train.shape)\n",
    "print('Train Label Shape:', y_train.shape)\n",
    "print('Test Data Shape:', x_test.shape)\n",
    "print('Test Label Shape:', y_test.shape)"
   ]
  },
  {
   "cell_type": "markdown",
   "metadata": {},
   "source": [
    "So we see that we have 187 countries to account for and we will be using all but one day to train with."
   ]
  },
  {
   "cell_type": "markdown",
   "metadata": {},
   "source": [
    "##### The Network\n",
    "Now that we are done with the boring data preparation, let's get into the meat of the learning. Here we will be creating the actual networks architecture. If you are interested in knowing all of the details of the architecture, check out that link I posted previously. Otherwise, all you need to know is that we have layers of what we call 'neurons' that we will pass our data through. Along this path, the values are multiplied by other values that we call 'weights' which will shrink the size of the data down as we move through the network. You may be wondering why we are doing this. Remember, we are predicting a single output: the estimated number of recoveries on a given day. So, we need to squish all of our countries down into a single output value. There is also what we call an 'activation function' performed after each of these operations to help control the data passed through. Once again, we will not go into much detail but just know that we are using Relu (Rectified Linear Unit). This is a function that flattens any numbers less than or equal to zero to zero."
   ]
  },
  {
   "cell_type": "code",
   "execution_count": 27,
   "metadata": {},
   "outputs": [],
   "source": [
    "class Net(nn.Module):\n",
    "    def __init__(self, dims):\n",
    "        super(Net, self).__init__()\n",
    "        self.fc1 = nn.Linear(dims[0], dims[1])\n",
    "        self.fc2 = nn.Linear(dims[1], dims[2])\n",
    "        self.fc3 = nn.Linear(dims[2], dims[3])\n",
    "        self.fc4 = nn.Linear(dims[3], dims[4])\n",
    "        self.relu = nn.ReLU()\n",
    "        \n",
    "    def forward(self, x):\n",
    "        x = self.relu(self.fc1(x))\n",
    "        x = self.relu(self.fc2(x))\n",
    "        x = self.relu(self.fc3(x))\n",
    "        x = self.relu(self.fc4(x))\n",
    "        \n",
    "        return x"
   ]
  },
  {
   "cell_type": "markdown",
   "metadata": {},
   "source": [
    "#### Hyperparameters\n",
    "Up until now we have basically waived our hands over how a neural network works. Simply put, it is all math. When we create our network, we initially have a bunch of random 'weights' to multiply by. Based on how close our final output is to the actual value we want (real number of recoveries), we will adjust these weights. This is done through a procedure called back propagation. If you want to read up on this, check out [this](https://mattmazur.com/2015/03/17/a-step-by-step-backpropagation-example/) great explanation. If not, we are simply looking at how each weight impacted our result, and we update them slightly. The hyper parameters below are all involved in the math of the network and tweaking them even slightly could greatly change results, so be careful!\n",
    "\n",
    "You may not understand these hyperparameters, but that is okay. Neural networks can be very complex structures that take a lot of time to tweak. Normally you would not see so many epochs but in our dataset, we have many zeros which cause many of the neurons in our network to become saturated, especially in earlier days where the majority of the data is zero. By increasing the epochs and decreasing the learning rate, we are able to prevent the network from learning too fast and becoming focused on the zeros."
   ]
  },
  {
   "cell_type": "code",
   "execution_count": 28,
   "metadata": {},
   "outputs": [],
   "source": [
    "dims = (x_train.size(1), 128, 64, 16, 1) # size of each layer in network\n",
    "torch.manual_seed(1) # set the 'randomness' for consistent results\n",
    "model = Net(dims)\n",
    "batch_size = x_train.shape[0] # how many days sent to netowork at once\n",
    "epochs = 30000 # how many times the network gets to see the data\n",
    "learning_rate = 0.00225\n",
    "momentum = 0.925\n",
    "optim = torch.optim.SGD(model.parameters(), lr=learning_rate, momentum=momentum)"
   ]
  },
  {
   "cell_type": "markdown",
   "metadata": {},
   "source": [
    "The below code essentially does everything that I have explained about neural networks up to this point. We show the model the data for as many iterations as we want (epochs), we give it a batch of days from the dataset, send this batch through the network to get a prediction, compare this prediction to the actual value with [MSE](https://www.freecodecamp.org/news/machine-learning-mean-squared-error-regression-line-c7dde9a26b93/), and then we adjust the weights in the network based on how right/wrong the model was."
   ]
  },
  {
   "cell_type": "code",
   "execution_count": 29,
   "metadata": {},
   "outputs": [],
   "source": [
    "for epoch in range(epochs):\n",
    "    for i in range(0, x_train.size(0), batch_size):\n",
    "        days = x_train[i:i+batch_size,:] # grab data\n",
    "        recoveries = y_train[i:i+batch_size] # grab correct values\n",
    "        output = model(days.float()).flatten() # make a prediction\n",
    "        loss = torch.sum((recoveries.float()-output.float())**2) # compute accuracy\n",
    "        optim.zero_grad() # do not accumulate gradient\n",
    "        loss.backward() # compute gradient\n",
    "        optim.step() # update weights w.r.t. gradient"
   ]
  },
  {
   "cell_type": "markdown",
   "metadata": {},
   "source": [
    "And just like that you have a model. This iteration will take a little time to run due to the large number of epochs so be patient."
   ]
  },
  {
   "cell_type": "markdown",
   "metadata": {},
   "source": [
    "#### Testing newly trained model\n",
    "With the model trained, all we have to do is feed it the data from the last day of the dataset which it has not seen yet and it will give us a prediction."
   ]
  },
  {
   "cell_type": "code",
   "execution_count": 30,
   "metadata": {},
   "outputs": [],
   "source": [
    "with torch.no_grad():\n",
    "    prediction = model(x_test.float())"
   ]
  },
  {
   "cell_type": "code",
   "execution_count": 31,
   "metadata": {},
   "outputs": [
    {
     "name": "stdout",
     "output_type": "stream",
     "text": [
      "Predicted Recovery: 1262055\n",
      "Actual Recovery: 1284741\n"
     ]
    }
   ],
   "source": [
    "print('Predicted Recovery:', round(prediction.item()*1e07))\n",
    "print('Actual Recovery:', round(y_test.item()*1e07))"
   ]
  },
  {
   "cell_type": "markdown",
   "metadata": {},
   "source": [
    "Look at that! It is slightly off, but the model is clearly learning that the amount of confirmed cases over the dataset, has an effect on the number of recoveries as well. It would be interesting to revisit this model in the coming months when the number of confirmed cases and recoveries decrease. Currently our model was tested to predict the future, but with some slight data manipulation you could actually test it against a different day in the dataset. If you feel up for the challenge, why don't you try to change what data the model is tested on. Just a warning, whatever you do, DO NOT expose your model to the test data during training. If you did, the model will have seen the data before and would be able to make a very accurate 'prediction'. Exams in school would be a lot easier if we all had the answer key, right?"
   ]
  },
  {
   "cell_type": "markdown",
   "metadata": {},
   "source": [
    "### Conclusion\n",
    "We went over quite a lot here and I hope you walked away with more knowledge on the topic then when we started. COVID-19 has had a huge impact on all of us but experiments like this can give us a better insight on what is happening. As we saw, there has been a large growth in confirmed cases and deaths due to the virus. However, we also saw that there is an increasing number of those who have recovered from the virus. It is important to do research for yourself instead of just absorbing whatever information is thrown out to the public. It is not uncommon for news outlets to focus only on the negative aspects of a story in order to increase their viewership. I will not deny that there is a large number of people who have passed away due to the virus, but as we saw, there have also been an incredible amount of recoveries. It is important that we all stay positive during this difficult time and remember that eventually we will get back to where we were. I hope this analysis of our COVID-19 dataset was as much fun for you as it was for me."
   ]
  },
  {
   "cell_type": "code",
   "execution_count": null,
   "metadata": {},
   "outputs": [],
   "source": []
  }
 ],
 "metadata": {
  "kernelspec": {
   "display_name": "Python 3",
   "language": "python",
   "name": "python3"
  },
  "language_info": {
   "codemirror_mode": {
    "name": "ipython",
    "version": 3
   },
   "file_extension": ".py",
   "mimetype": "text/x-python",
   "name": "python",
   "nbconvert_exporter": "python",
   "pygments_lexer": "ipython3",
   "version": "3.7.5"
  }
 },
 "nbformat": 4,
 "nbformat_minor": 4
}
